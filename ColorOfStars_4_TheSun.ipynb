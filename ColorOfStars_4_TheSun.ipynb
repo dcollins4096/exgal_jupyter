{
 "cells": [
  {
   "cell_type": "markdown",
   "metadata": {},
   "source": [
    "# Exgal 2022 Numerical Homework 4\n",
    "\n",
    "Let's learn how to do a simple numerical integral\n"
   ]
  },
  {
   "cell_type": "code",
   "execution_count": 1,
   "metadata": {},
   "outputs": [],
   "source": [
    "#\n",
    "# Setup numbers, and a black body.\n",
    "# \n",
    "# RUN THIS CELL FIRST.\n",
    "#\n",
    "import numpy as np\n",
    "import matplotlib.pyplot as plt\n",
    "%matplotlib inline \n",
    "h =  6.62607e-27        #erg s\n",
    "c =  2.998e10           #cm/s\n",
    "kb = 1.38065e-16        #erg/K\n",
    "sigma_sb = 5.670373e-05 #erg/(K**4*cm**2*s)\n",
    "Rsun_cm = 6.9550e10     #cm\n",
    "Lsun = 3.827e+33        #erg/s\n",
    "AU_in_cm = 1.4960e+13   #cm\n",
    "pc_in_cm = 3.0857e+18   #cm\n",
    "Tsun = 5770             #K\n",
    "\n",
    "\n",
    "def black_body(L,T):\n",
    "    return 2*h*c**2*(L**-5)/(np.exp(h*c/(L*kb*T) )-1)\n",
    "\n",
    "if 'star_data' not in dir():\n",
    "    import h5py\n",
    "    fptr = h5py.File('star_data_main_sequence.h5','r')\n",
    "    star_data={}\n",
    "    for field in fptr.keys():\n",
    "        star_data[field] = fptr[field][:]\n",
    "StellarLuminosities = 10**star_data['log_Luminosity_Lsun']*Lsun"
   ]
  },
  {
   "cell_type": "markdown",
   "metadata": {},
   "source": [
    "## Slice Operations\n",
    "\n",
    "Arrays can contain a lot of information, and some times you want subsets of that information.  We can take parts of an array with slice operations.  Slice operations look like this:\n",
    "\n",
    "```\n",
    "A[start:stop:skip]\n",
    "```\n",
    "\n",
    "1. It omits the last point, because arrays start at zero.\n",
    "1. If one of those (start, stop, skip) is omitted, it does \"what you think it should.\"\n",
    "1. Negative numbers start from the back.  `A[-1]` is the last element.\n",
    "\n",
    "So, for example,\n",
    "```\n",
    "B = np.arange(10)\n",
    "print(B)\n",
    "[0 1 2 3 4 5 6 7 8 9]\n",
    "```\n",
    "then I can get the first three values like this:\n",
    "```\n",
    "print(B[:3])\n",
    "[0,1,2]\n",
    "```\n",
    "then I can get the even numbers by \n",
    "```\n",
    "print(B[::2])\n",
    "[0 2 4 6 7]\n",
    "```\n",
    "and the odds as\n",
    "```\n",
    "print(B[1::2])\n",
    "[1 3 5 7 9]\n",
    "```\n",
    "and I can get the last three elements as\n",
    "```\n",
    "print(B[-3:])\n",
    "```\n",
    "\n",
    "### Two kinds of lists\n",
    "\n",
    "There are two kinds of list objects in python that we'll deal with.  Native `list` objects, and `numpy.ndarray`.  Ok, the second one is not a list at all, its an array, but they do some similar things.  A native list is what you get with square brackets\n",
    "\n",
    "```\n",
    "A = [0,1,2]\n",
    "```\n",
    "\n",
    "A numpy array can be made from python lists\n",
    "\n",
    "```\n",
    "import numpy as np\n",
    "B = np.array([0,1,2])\n",
    "```\n",
    "\n",
    "There are several differences between `list` and `ndarray`.   The most notable differences:\n",
    "\n",
    "1. If you're doing math, use an `ndarray`, never a list. It's faster by a lot.  (We won't notice the speed in this class, but we should plan ahead)\n",
    "1. Adding two `list` objects together makes a new `list` that is the two joined together.\n",
    "  1. `[0,1,2]+[3,4,5]` yeilds `[0,1,2,3,4,5]`\n",
    "1. Adding two `ndarray` objects together adds each element.\n",
    "  1. `np.array([0,1,2])+np.array([3,4,5])` yeilds `array([3,5,7])`\n"
   ]
  },
  {
   "cell_type": "markdown",
   "metadata": {},
   "source": [
    "### Problem 1\n",
    "\n",
    "_5 pts_ \n",
    "\n",
    "The array `A` contains some numbers. Let's play around with some slice operations. \n",
    "\n",
    "\n",
    "1. Use the slice operator to print the second, third, and fourth elements (You should get 4,5,7) \n",
    "1. Write down the `dx` for this array (that is, the difference between each element)\n",
    "1. Use the slice operator to store all but the FIRST value of the array A in an array `Aplus1`\n",
    "1. Use the slice operator to store all but the LAST value of the array A in an array `Aminus1`\n",
    "1. Print `Aplus1`, `Aminus1`, and their difference.  If you don't get what you got in part 2, you did something wrong."
   ]
  },
  {
   "cell_type": "code",
   "execution_count": 2,
   "metadata": {},
   "outputs": [],
   "source": [
    "#Start with this array.\n",
    "A = np.array([1,3,4,5,7,9])"
   ]
  },
  {
   "cell_type": "code",
   "execution_count": 3,
   "metadata": {},
   "outputs": [
    {
     "name": "stdout",
     "output_type": "stream",
     "text": [
      "[4 5 7]\n",
      "[3 4 5 7 9]\n",
      "[1 3 4 5 7]\n",
      "[2 1 1 2 2]\n"
     ]
    }
   ],
   "source": [
    "#Solution:\n",
    "print(A[2:5])\n",
    "Aplus1=A[1:]\n",
    "Aminus1=A[:-1]\n",
    "print(Aplus1)\n",
    "print(Aminus1)\n",
    "print(Aplus1 - Aminus1)"
   ]
  },
  {
   "cell_type": "markdown",
   "metadata": {},
   "source": [
    "### Problem 2\n",
    "\n",
    "_5 pts_\n",
    "\n",
    "1. Make an array from 0 to 100, includng 100.  Don't type every number, use one of the functions that has been mentioned.\n",
    "1. Use slice operations to return all the multiples of 5.\n",
    "1. Use slice operations to return all the evens between 20 and 30, including 30."
   ]
  },
  {
   "cell_type": "code",
   "execution_count": 4,
   "metadata": {},
   "outputs": [
    {
     "name": "stdout",
     "output_type": "stream",
     "text": [
      "[20 22 24 26 28 30]\n"
     ]
    }
   ],
   "source": [
    "A = np.arange(0,101)\n",
    "Fives = A[::5]\n",
    "Evens = A[20:31:2]\n",
    "print(Evens)"
   ]
  },
  {
   "cell_type": "markdown",
   "metadata": {},
   "source": [
    "## A note on numerical integration\n",
    "\n",
    "\n",
    "An integral is a sum. The $dx$ in the integral is the width of the bin of stuff you're adding together.  (Remember the trapezoid rule and all that?) . The fancy bit about an integral, and calculus in general, is that $dx$ is arbitrarily small.  A formal definition of the integral looks like this:\n",
    "\n",
    "$\\int_a^b f(x)\\ dx = \\lim_{n\\to\\infty}  \\sum_{i=0}^{n} f(x_i) \\Delta x_i$\n",
    "\n",
    "which means \"partition the interval $[a,b]$ into $x_i$ points with bins of width $\\Delta x_i$.  Add up the rectangle $f(x_i) \\Delta x_i$ at each point.  Make the bins arbitrarily small and the number of points arbitrarily large\".\n",
    "\n",
    "On a computer, we can do everything but that last part, taking the bin width to zero and the number of points to infinity.  I only have so much RAM.  So we're left with \n",
    "\n",
    "$\\int_a^b f(x)\\ dx \\approx \\sum_{i=0}^{n} f(x_i) \\Delta x_i$.\n",
    "\n",
    "Say I want to evaluate the integral $y=\\int_0^{1} x^3 dx$.   I'd start with an array for $x$ that goes from 0 to 1, and has 100 points.  In python I'd say `x=np.linspace(0,1,100)`. Then $\\Delta x_i = 1/99$. The simplest way to perform this integral is  \n",
    "\n",
    "```\n",
    "x=np.linspace(0,1,100)\n",
    "dx = 1./99\n",
    "y = sum(x*dx)\n",
    "```\n",
    "\n",
    "_(I have 100 elements, but only 99 spaces between the elements)..._\n",
    "\n",
    "In that third line, the bit in the parentheses, `x*dx` is done first, it multiplies every element of the array `x` by the scalar `dx` ;  that operation returns another `numpy` array.  Then `sum` is called, which adds all the elements up.\n",
    "\n",
    "Note that this is one simple approximation to the integral.  Much better approximations and numerical integrations can be done, but this is good enough for our purpose for now.\n",
    "\n",
    "### How I like to actually do it\n",
    "\n",
    "In reality, I find it often least error prone to compute $\\Delta x_i$ and my array $x$ from the same place.  So I define the bin edges, and comptue the bin centers and widths from that array.  So for example,\n",
    "```\n",
    "x_edge = np.linspace(0,5,100)\n",
    "x  =0.5*(x_edge[1:]+x_edge[:-1])\n",
    "dx = (x_edge[1:]-x_edge[:-1])\n",
    "```"
   ]
  },
  {
   "cell_type": "code",
   "execution_count": 11,
   "metadata": {},
   "outputs": [],
   "source": [
    "# Try the code snippits from the last cell here, if you like.\n"
   ]
  },
  {
   "cell_type": "markdown",
   "metadata": {},
   "source": [
    "### Problem 3\n",
    "\n",
    "_10 pts_\n",
    "\n",
    "Let's do an integral.  \n",
    "\n",
    "1. Solve $\\int_0^5 x^3 dx$ by hand.  \n",
    "1. Then solve it numerically. Use `x` and `dx` provided. \n",
    "1. Solve $\\int_1^3 4x^2 dx$ in the same manner (by hand, then with code).  You'll need to create a new `x` and `dx`.\n"
   ]
  },
  {
   "cell_type": "code",
   "execution_count": 12,
   "metadata": {},
   "outputs": [
    {
     "name": "stdout",
     "output_type": "stream",
     "text": [
      "156.25\n",
      "156.24999921859373\n",
      "34.666666666666664\n",
      "34.66639458558651\n"
     ]
    }
   ],
   "source": [
    "#Use these\n",
    "x_edge = np.linspace(0,5,10000)\n",
    "x  =0.5*(x_edge[1:]+x_edge[:-1])\n",
    "dx = (x_edge[1:]-x_edge[:-1])\n",
    "\n",
    "Analytic1 = 1./4*(5)**4\n",
    "Numeric1=np.sum( x**3*dx)\n",
    "print(Analytic1)\n",
    "print(Numeric1)\n",
    "\n",
    "Analytic2 = 4./3*(3**3-1**3)\n",
    "\n",
    "x_edge = np.linspace(1,3,100)\n",
    "x  =0.5*(x_edge[1:]+x_edge[:-1])\n",
    "dx = (x_edge[1:]-x_edge[:-1])\n",
    "Numeric2=(4*x**2*dx).sum()\n",
    "print(Analytic2)\n",
    "print(Numeric2)"
   ]
  },
  {
   "cell_type": "markdown",
   "metadata": {},
   "source": [
    "### Problem 4\n",
    "\n",
    "_10 pts_\n",
    "\n",
    "Let's find the luminosity of the Sun.  \n",
    "\n",
    "Recall that the black body, $B_\\lambda(T)$ is the energy coming out per unit (area, wavelenth, solid angle, second), and we want `erg/s`.  Recall that\n",
    "\n",
    "$$\n",
    "L = \\int d\\lambda \\int \\hat{n}\\cdot dA \\int d\\Omega B_\\lambda(T)\n",
    "$$\n",
    "Also recal that the integral of area and solid angle is \n",
    "$$\n",
    "\\int \\left( \\int \\hat{n}\\cdot dA\\right) d\\Omega = 4\\pi^2 R^2\n",
    "$$\n",
    "so the only thing left is the integral over $d\\lambda$\n",
    "$$\n",
    "L = 4 \\pi^2 R_\\odot^2 \\int_0^\\infty B_\\lambda(T)\n",
    "$$\n",
    "\n",
    "Numerically integrate the black body function in the first cell to show that the total luminosity of a $T=5770K$ black body is `Lsun` (also defined in the first cell).\n",
    "\n",
    "Hints:\n",
    "1. Make an array B = black_body(L,5770) using L defined in the next cell and the black body defined above.\n",
    "1. Integrate B*dL\n",
    "1. Multiply by $4\\pi^2 R_\\odot^2$\n",
    "1. Make sure you get 3.827e+33"
   ]
  },
  {
   "cell_type": "code",
   "execution_count": 5,
   "metadata": {},
   "outputs": [],
   "source": [
    "#You may find these useful:\n",
    "L_edge = np.linspace(100e-7,10000e-7,1000)\n",
    "dL = L_edge[1:]-L_edge[:-1]\n",
    "L = 0.5*(L_edge[1:]+L_edge[:-1])\n"
   ]
  },
  {
   "cell_type": "code",
   "execution_count": 6,
   "metadata": {},
   "outputs": [
    {
     "name": "stdout",
     "output_type": "stream",
     "text": [
      "3.817543778718229e+33\n"
     ]
    }
   ],
   "source": [
    "#work here\n",
    "B = black_body(L,5770)\n",
    "Lsun = (B*dL).sum()*4*np.pi**2*Rsun_cm**2\n",
    "print(Lsun)"
   ]
  },
  {
   "cell_type": "markdown",
   "metadata": {},
   "source": [
    "##### Problem 5\n",
    "\n",
    "_5 pts_\n",
    "\n",
    "Using what you did in Problem 3, find the Absolute Magnitude of the sun.  You may find `StellarLuminosities` useful, defined in the first cell.  (Hint: look back at previous homework)"
   ]
  },
  {
   "cell_type": "code",
   "execution_count": 7,
   "metadata": {},
   "outputs": [
    {
     "name": "stdout",
     "output_type": "stream",
     "text": [
      "b'A0V'\n",
      "4.574335831532734\n"
     ]
    }
   ],
   "source": [
    "#work here\n",
    "print(star_data['spectral_class'][20])\n",
    "M = -2.5*np.log10(Lsun/StellarLuminosities[20])\n",
    "print(M)"
   ]
  },
  {
   "cell_type": "markdown",
   "metadata": {},
   "source": [
    "### Problem 5\n",
    "\n",
    "_2 pts_\n",
    "\n",
    "How long did this set take you?"
   ]
  },
  {
   "cell_type": "code",
   "execution_count": null,
   "metadata": {},
   "outputs": [],
   "source": []
  }
 ],
 "metadata": {
  "kernelspec": {
   "display_name": "Python 3 (ipykernel)",
   "language": "python",
   "name": "python3"
  },
  "language_info": {
   "codemirror_mode": {
    "name": "ipython",
    "version": 3
   },
   "file_extension": ".py",
   "mimetype": "text/x-python",
   "name": "python",
   "nbconvert_exporter": "python",
   "pygments_lexer": "ipython3",
   "version": "3.9.7"
  }
 },
 "nbformat": 4,
 "nbformat_minor": 2
}
