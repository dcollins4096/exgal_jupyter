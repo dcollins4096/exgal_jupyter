{
 "cells": [
  {
   "cell_type": "markdown",
   "metadata": {},
   "source": [
    "# Welcome to Exgal 2023!"
   ]
  },
  {
   "cell_type": "markdown",
   "metadata": {},
   "source": [
    "And welcome to our code-based problem sets.  \n",
    "\n",
    "This notebook will walk you through the basics of Jupyter and Python. Python is a language, and Jupyter notebooks are a method to interactively write and run python code. \n",
    "\n",
    "Read the contents of each cell. Double click to edit.  Hit shift-enter to make things happen.\n",
    "\n",
    "There is a lot of information contained in this notebook:  the purpose is to get you started, so don't worry if you get to the end and don't really know what's going on with Python.  Jupyter-based homeworks will set up everything as we go.\n",
    "\n",
    "My primary goal for this assignment is for you to be able to: \n",
    "1. Download and run a Jupyter notebook\n",
    "1. Edit and run some cells\n",
    "1. Save and re-upload the notebook\n",
    "1. Have a reference for code things when we run into them later.\n",
    "\n",
    "You should read everything, and run every cell that has `In[ ]` next to it.  Several cells (both text and code) have **Task X**, do those things. There are seven. When you're done, save your notebook and upload the result to Canvas.\n",
    "\n",
    "Grading:  One point for having run every cell; one point for each **Task**."
   ]
  },
  {
   "cell_type": "markdown",
   "metadata": {},
   "source": [
    "# Notebook Basics"
   ]
  },
  {
   "cell_type": "markdown",
   "metadata": {},
   "source": [
    "#### Getting started"
   ]
  },
  {
   "cell_type": "markdown",
   "metadata": {},
   "source": [
    "Since you're here, it's likely you've installed Anaconda and Jupyter and sorted out how to launch the notebook.  If not, the first steps are:\n",
    "1. Install Anaconda from here: https://www.anaconda.com/download/\n",
    "  1. If you have trouble, google the error message. \n",
    "  1. Make sure you have enough disk space, it takes a few Gb. \n",
    "  1. Anaconda is a suite of python packages, most of which are extremely useful.\n",
    "1. Download the notebook Exgal2019_hwb01.ipynb from the assignment on Canvas.\n",
    "1. Open the notebook:  \n",
    "  1. On a mac or Linux, open a terminal window.  \n",
    "  1. On Windows, open cmd.  You might be able to open a Jupyter install from the Start menu?\n",
    "  1. Type \n",
    "  ``` \n",
    "  jupyter notebook Exgal2023_j01.ipynb\n",
    "  ```\n",
    "1. Then you should be here!"
   ]
  },
  {
   "cell_type": "markdown",
   "metadata": {},
   "source": [
    "#### Notebook Cells"
   ]
  },
  {
   "cell_type": "markdown",
   "metadata": {},
   "source": [
    "A Jupyter notebook is an editable, run-able document.  There are two main types of cells: Markdown, which contains formatted text; and code, which contains python code that you can run.  In both types of cells, double click on the text to edit, then hit shift-enter to save and run."
   ]
  },
  {
   "cell_type": "markdown",
   "metadata": {},
   "source": [
    "On the menu at the top, there are a set of menus (File, Edit, View, Insert, Cell, Kernel, Widges, Help) and a set of icons (Save, New Cell, cut, copy, paste, up one, down one, run, stop, restart the kernel, markdown/code/otherstuff, command pallate)"
   ]
  },
  {
   "cell_type": "markdown",
   "metadata": {},
   "source": [
    "The pieces you'll probably need the most are the +, new cell, the markdown/code drop down, and the save button. The Kernel is the bit of code that's running in the background which does the work when you hit shift-enter.  Take a minute to look at the menus and make sure they make basic sense.  Ask questions if anything is unclear.\n",
    "\n",
    "Let's try to make an edit:"
   ]
  },
  {
   "cell_type": "markdown",
   "metadata": {},
   "source": [
    "**Task 1:** What time is it where you are?"
   ]
  },
  {
   "cell_type": "markdown",
   "metadata": {},
   "source": [
    "_double click here to answer.  Shift-enter to exit the editor and run the cell.  Then save your notebook._"
   ]
  },
  {
   "cell_type": "markdown",
   "metadata": {},
   "source": [
    "# Code Basics"
   ]
  },
  {
   "cell_type": "markdown",
   "metadata": {},
   "source": [
    "This is not a programming class, and I won't be asking you to do a crazy amount of programming.  However in some of the homework sets I'll ask you to use Python to manipulate and plot various things, because that's what I like doing.  I've chosen Python because it's the language I use most as an astronomer, and it's an extremely popular language outside of academia.  So familiarity with Python will be extremely useful regardless of what you do in the future.  \n",
    "\n",
    "Read through this notebook and execute the cells.  Think about what each one is doing, and if you have questions note them in a markdown window.  Several cells link to videos that have more information.  The videos are not necessary, but you may find them useful, especially if you're new to code. \n",
    "\n",
    "### Outline\n",
    "\n",
    "1. What's a Computer? \n",
    "1. Basic variables and operations.\n",
    "2. Functions\n",
    "2. Lists and dictionaries\n",
    "1. Objects\n",
    "4. Self documentation: `help` and `dir`\n",
    "5. Loops and conditionals: `for` and `if`\n",
    "6. Importing python modules\n",
    "7. numpy (dealing with numbers) and matplotlib (plotting stuff)"
   ]
  },
  {
   "cell_type": "markdown",
   "metadata": {},
   "source": [
    "### What's a computer"
   ]
  },
  {
   "cell_type": "markdown",
   "metadata": {},
   "source": [
    "A computer is able to do dumb things very fast, while a person is able to do smart things very slowly.  I think Feynman said that.  A computer can do the following things; add, subtract, multiply, divide, compare bits, store bits, and retrieve bits.  That's basically it.  In order to do things like make simultions of galaxies forming, we need a way to interact with it.  I speak English, so I want something that looks basically like English.  The computer speaks in 1s and 0s (binary), so we need a translator.  Code is the English-looking bit, and the **compiler** is the translator.  In many languages like C, C++, or Fortran, you write a file filled with code, give the file to a compiler that translates it to machine instructions, and produces an executable file.  Other languages, like Python, are interpreted.  This means there's an interface that does the compiling on-the-fly.  \n",
    "\n",
    "There are many ways to run Python code.  One is through a Jupyter notebook, which packages things nicely and runs in a browser, which is also nice.  Another is by typing `Python` or `iPython` at the command line, or `iPython Script.py`.  If you want to know some more, here's an intro video: [\"Python iPython Jupyter\", about 7 minutes](https://www.youtube.com/watch?v=L03BzGmLUUE)\n",
    "\n",
    "Run this cell:"
   ]
  },
  {
   "cell_type": "code",
   "execution_count": null,
   "metadata": {},
   "outputs": [],
   "source": [
    "variable = 7"
   ]
  },
  {
   "cell_type": "markdown",
   "metadata": {},
   "source": [
    "When you run that cell, the notebook takes the bit of text, `variable = 7`, and compiles it to an instruction the computer can use.  The computer then sets some piece of memory, `variable`, and stores the value `7` in it. I can also retrieve that variable and do things with it, like pass it to a function.  Run this cell:"
   ]
  },
  {
   "cell_type": "code",
   "execution_count": null,
   "metadata": {},
   "outputs": [],
   "source": [
    "print(variable)"
   ]
  },
  {
   "cell_type": "markdown",
   "metadata": {},
   "source": [
    "The function, `print`, takes the _argument_ you put in the parenthesis, `()`, and writes it to the screen in the way the argument wants to be written.  I can also multiply things togehter.  Run this cell:"
   ]
  },
  {
   "cell_type": "code",
   "execution_count": null,
   "metadata": {},
   "outputs": [],
   "source": [
    "another_variable = variable + 12\n",
    "print(another_variable)\n",
    "print(another_variable + variable)"
   ]
  },
  {
   "cell_type": "markdown",
   "metadata": {},
   "source": [
    "Here's another video, if you'd like to slow it down and go over these ideas: [\"Writing a simple Python program by example\", 6:43](https://www.youtube.com/watch?v=cCLB1sNpNYo)"
   ]
  },
  {
   "cell_type": "markdown",
   "metadata": {},
   "source": [
    "### Basic Variables and Operators"
   ]
  },
  {
   "cell_type": "markdown",
   "metadata": {},
   "source": [
    "Most code texts and courses start with _data types_, which is the most basic list of kinds of variables one can use.  Originally, the data type referred primarily to the memory needs for a variable.  For example: ```integers``` need 32 bits and store integers (e.g. +1 or -478); ```floats``` have decimal points (e.g. 1.5, $1.05\\times10^{-27}$); charachters are only one byte; ```Arrays``` can sore many pieces of data of a given type, and an array of size N of type T need enough memory allocated (e.g. 128\\* 32 bits, for an array of 128 integers).  In many languages, the programmer declares an element as a type and it stays that way. So for example in the language C, I can make a charachter string, ```name``` and a float ```size```,\n",
    "\n",
    "```\n",
    "string name = \"Matt Pike\";\n",
    "float size = 9000.1;\n",
    "```\n",
    "\n",
    "In many languages, these variables are fixed to be those types, and the things I can do with those variables is also fixed.  For example, I can print both of them.  I can add to the size, e.g.\n",
    "\n",
    "```\n",
    "size = size + 5;\n",
    "```\n",
    "\n",
    "but I can't add to the string name, because adding an integer to a string isn't defined by the language.\n",
    "\n",
    "Python, on the other hand, types things dynamically.  So I don't need to declare what type it is, the interpreter just sorts it out.  This is a blessing and a curse; it make the code easier to read and write, but also makes it easier to make confusing mistakes.  Further, many types have the basic operations like addition (`+`) and multiplication (`*`) _overloaded_ so they do things that make sense.  Read this example and think about what it will do, then hit shitf-enter and see:"
   ]
  },
  {
   "cell_type": "code",
   "execution_count": null,
   "metadata": {
    "scrolled": true
   },
   "outputs": [],
   "source": [
    "name = \"Matt Pike\"\n",
    "size = 9000\n",
    "print(name)\n",
    "print(size)\n",
    "name = name * 5\n",
    "size = size + 5\n",
    "print(name)\n",
    "print(size)"
   ]
  },
  {
   "cell_type": "markdown",
   "metadata": {},
   "source": [
    "Note that we multiplied a string by an integer, and got back 5 copies of the string. \n",
    "\n",
    "The basic data types that one will deal with are\n",
    "1. Integers (no decimal)\n",
    "1. Floats (have a decimal, even if it's a whole number. e.g. 1.0)\n",
    "1. Strings and charachters\n",
    "\n",
    "And the basic operations that you'll use are\n",
    "1. Addition, `a+b`\n",
    "1. Multiplication, `a*b`\n",
    "1. Division, `a/b`\n",
    "1. Exponentiation, `a**b` raises `a` to the `b` power\n",
    "1. Comparision, `a<b` or `a>b` or `a>=b`, `a<=b`, and most importantly `a==b`.  One of the most common mistakes is to use one `=` instead of two when comparing numbers.  \n",
    " "
   ]
  },
  {
   "cell_type": "markdown",
   "metadata": {},
   "source": [
    "Feel free to watch this video if you'd like a little more detail.\n",
    "[\"Some fundamental python variable types\", 15:38](https://www.youtube.com/watch?v=yv7klK57Ezc)"
   ]
  },
  {
   "cell_type": "markdown",
   "metadata": {},
   "source": [
    "### Functions"
   ]
  },
  {
   "cell_type": "markdown",
   "metadata": {},
   "source": [
    "There are lots of times when I need to do the same thing over and over.  For example, I want to integrate a sine function between two points.  Or, I want a sine function, which the computer needs to approximate with Taylor series because all it can _actually_ do is add and multiply.  A **function** takes some arguments, does some stuff to them, and maybe returns something.  So, for instance (now using proper python syntax)\n",
    "\n",
    "```\n",
    "def square(x):\n",
    "    x_squared = x*x\n",
    "    return x_squared\n",
    "```\n",
    "\n",
    "So now, I can use this instead of the tedious task of squaring a number.  Let's try an example. "
   ]
  },
  {
   "cell_type": "markdown",
   "metadata": {},
   "source": [
    "**TASK 2:** Run the next cell, and use it to square your favorite number in the following cell.  Mine is 42, pick something different."
   ]
  },
  {
   "cell_type": "code",
   "execution_count": null,
   "metadata": {},
   "outputs": [],
   "source": [
    "#just run this cell, don't edit it\n",
    "def square(x):\n",
    "    \"\"\"this function squares the argument\"\"\"\n",
    "    x_squared=x*x\n",
    "    return x_squared"
   ]
  },
  {
   "cell_type": "code",
   "execution_count": null,
   "metadata": {},
   "outputs": [],
   "source": [
    "#change this number and run.\n",
    "print( square(42) )"
   ]
  },
  {
   "cell_type": "markdown",
   "metadata": {},
   "source": [
    "#### Python Syntax Note 1"
   ]
  },
  {
   "cell_type": "markdown",
   "metadata": {},
   "source": [
    "In python, ```def``` starts a function, the definition starts with a colon ```:```, and the body is indented by 1 or more spaces.  The function is over when the indentation stops.  "
   ]
  },
  {
   "cell_type": "markdown",
   "metadata": {},
   "source": [
    "#### Python Syntax Note 2"
   ]
  },
  {
   "cell_type": "markdown",
   "metadata": {},
   "source": [
    "Comments are lines in the code that start with a pound ```#``` and are ignored by the interpreter.  They help tell the programmer what's going on.  They are essential for making programs that other people can use."
   ]
  },
  {
   "cell_type": "markdown",
   "metadata": {},
   "source": [
    "### Lists `[ ]`and Dictionaries `{ }`"
   ]
  },
  {
   "cell_type": "markdown",
   "metadata": {},
   "source": [
    "In general, I'll want to be using many variables at once, for example the periods and brightnes of the Cepheid variable stars that Leavitt found.  We can use `lists` and `dict` for these.  We can make a `list` in python with square brackets, `[]`, which is a set of things in some specified order.  I can print them, access individual elements, or a range of elements.  Run these cells, but think about what the outcome will be before you do:"
   ]
  },
  {
   "cell_type": "code",
   "execution_count": null,
   "metadata": {},
   "outputs": [],
   "source": [
    "#Note this is a terrible way to get ten integers, more on that later. \n",
    "my_list = [0,1,2,3,4,5,6,7,8,9]\n",
    "print(\"The whole list:\",my_list)\n",
    "print('Just the seventh element:',my_list[7])\n",
    "print('the second half:', my_list[5:10])\n",
    "print('Or just the last element:',my_list[-1])"
   ]
  },
  {
   "cell_type": "markdown",
   "metadata": {},
   "source": [
    "Note that the negative index is a special python thing, most languages don't let you do that.\n",
    "\n",
    "Also note, Python `list` types are extremely versatile.  I can have a list that has all kinds of stuff.  Run this cell"
   ]
  },
  {
   "cell_type": "code",
   "execution_count": null,
   "metadata": {},
   "outputs": [],
   "source": [
    "general_list = [0,3,'i can store strings',square]\n",
    "print(general_list)"
   ]
  },
  {
   "cell_type": "markdown",
   "metadata": {},
   "source": [
    "This last cell will fail if you didn't run the cells in the section on functions. \n",
    "\n",
    "If I want something that I don't index with integers, I can make a dictionary.  To _create_ a dictionary, you use curly brackets `{}`.  To _set_ or _get_ elements, use square brackets.  "
   ]
  },
  {
   "cell_type": "code",
   "execution_count": null,
   "metadata": {},
   "outputs": [],
   "source": [
    "my_dictionary = {'a':1}\n",
    "print(my_dictionary)\n",
    "my_dictionary['b'] = 2\n",
    "print( my_dictionary)\n",
    "print(my_dictionary['b'])"
   ]
  },
  {
   "cell_type": "markdown",
   "metadata": {},
   "source": [
    "Note that adding two lists joins them together:"
   ]
  },
  {
   "cell_type": "code",
   "execution_count": null,
   "metadata": {},
   "outputs": [],
   "source": [
    "array_three = my_list + [700,800]\n",
    "print(array_three)"
   ]
  },
  {
   "cell_type": "markdown",
   "metadata": {},
   "source": [
    "but adding two dictionaries fails:"
   ]
  },
  {
   "cell_type": "code",
   "execution_count": null,
   "metadata": {},
   "outputs": [],
   "source": [
    "dict_2 = {'c':3}\n",
    "print(my_dictionary+dict_2)"
   ]
  },
  {
   "cell_type": "markdown",
   "metadata": {},
   "source": [
    "Another video on Lists, [\"The list data type in Python\" 10:49](https://www.youtube.com/watch?v=TJ_bGrigAMg)"
   ]
  },
  {
   "cell_type": "markdown",
   "metadata": {},
   "source": [
    "**Task 3** Make a variable containing a list of your favorite days of the week.  Print it"
   ]
  },
  {
   "cell_type": "code",
   "execution_count": null,
   "metadata": {},
   "outputs": [],
   "source": [
    "Here is my work.\n"
   ]
  },
  {
   "cell_type": "markdown",
   "metadata": {},
   "source": [
    "### Objects and `class`"
   ]
  },
  {
   "cell_type": "markdown",
   "metadata": {},
   "source": [
    "I won't get into much detail with `objets` right now, but Python takes object-orientation very seriously.  To get my simulations of the universe to work, I'm going to crate some code that has very complex features.  For instance, I need a star that has a mass and an age, and also has functions that act on it's mass.  Run these two cells:"
   ]
  },
  {
   "cell_type": "code",
   "execution_count": null,
   "metadata": {},
   "outputs": [],
   "source": [
    "class star():\n",
    "    \"\"\"a star object\"\"\"\n",
    "    mass = 1\n",
    "    age = 0\n",
    "    def age_and_blow_wind(self,dt):\n",
    "        \"\"\"Increase the age and lose some mass by wind at 10^-3 solar masses per year\"\"\"\n",
    "        self.age = self.age + dt\n",
    "        self.mass = self.mass - 1e-3*dt\n",
    "    def __str__(self):\n",
    "        return \"My star has a mass of %0.2f Solar Masses and an age of %0.2f years\"%(self.mass,self.age)"
   ]
  },
  {
   "cell_type": "code",
   "execution_count": null,
   "metadata": {},
   "outputs": [],
   "source": [
    "star_1 = star() #here I make a star.\n",
    "print(\"I can get members with a dot:\", star_1.mass)\n",
    "print(\"Also, I taught my star how to print itself:\")\n",
    "print(star_1)\n",
    "star_1.age_and_blow_wind(100)\n",
    "print(\"and it does stuff\")\n",
    "print(star_1)"
   ]
  },
  {
   "cell_type": "markdown",
   "metadata": {},
   "source": [
    "We define the object with `class star()`, and the code that's indented below the definition is what makes up that object.  It has two members, `age` and `mass`, and two methods `age_and_blow_wind`.  When I call that function, it increases the age by 100, and decreases the mass by 0.1.  \n",
    "\n",
    "#### `__str__` and things surrounded by underscores\n",
    "\n",
    "Also, I've told my object how to print itself, with the `__str__` method.  The `%` in that method formats the string, ignore that for now.  Note that the two underscores in the method `__str__` indicate that Python has a special purpose for that function.  _Ignore things with two underscores until further notice._ There are a lot of them.\n",
    "\n",
    "#### Dude, what?\n",
    "\n",
    "The major take away from this:\n",
    "\n",
    "1. An object is a data type that the user defined.\n",
    "1. They have members that you can access with a dot, like `star.mass`.\n",
    "1. There are often things with underscores around the name, like `__dir__`.  Ignore them.\n",
    "1. Everything in python is an object.  Even functions, they just happen to be objects you can call.\n",
    "1. Different kinds of objects do different kinds of things, so keep in mind what kind of object you're working with"
   ]
  },
  {
   "cell_type": "markdown",
   "metadata": {},
   "source": [
    "### Python is self documenting"
   ]
  },
  {
   "cell_type": "markdown",
   "metadata": {},
   "source": [
    "An extremely important aspect of python is that it's self documenting with the ```help``` and ```dir``` functions, as well as `type`.  Note that there are several strings in the definitions of functions and the class `star`.  These are called _doc strings_, and they get spit out with `help`.  The list of methods and properties are returned with ```dir```.  And finally the type of thing gets returned with `type`\n",
    "\n",
    "This is extremely important, this is how you sort out what you can do with an object.\n",
    "\n",
    "Remember that Python sticks two underscores around things that have a special purpose.  For `dir`, ignore the things with two underscores.  "
   ]
  },
  {
   "cell_type": "markdown",
   "metadata": {},
   "source": [
    "Run these two cells to see what things the star can do.  "
   ]
  },
  {
   "cell_type": "code",
   "execution_count": null,
   "metadata": {
    "scrolled": false
   },
   "outputs": [],
   "source": [
    "help(star_1)"
   ]
  },
  {
   "cell_type": "code",
   "execution_count": null,
   "metadata": {},
   "outputs": [],
   "source": [
    "dir(star_1)"
   ]
  },
  {
   "cell_type": "code",
   "execution_count": null,
   "metadata": {},
   "outputs": [],
   "source": [
    "print(\"The star is of type\", type(star_1))\n",
    "print(\"The dictionary is \", type(dict_2))\n",
    "print(\"Form dir, I learned that star_1 has mass.  It's of type\", type(star_1.mass))"
   ]
  },
  {
   "cell_type": "markdown",
   "metadata": {},
   "source": [
    "### Doing Stuff: ```for``` and ```if```"
   ]
  },
  {
   "cell_type": "markdown",
   "metadata": {},
   "source": [
    "We can also do things many times, and evaluate logical statements.  We won't be doing much of this, at least at first, but for completeness here they are.\n",
    "\n",
    "Here is a loop:"
   ]
  },
  {
   "cell_type": "code",
   "execution_count": null,
   "metadata": {},
   "outputs": [],
   "source": [
    "for i in range(10):\n",
    "    print(i)"
   ]
  },
  {
   "cell_type": "markdown",
   "metadata": {},
   "source": [
    "We can also as questions with ```if```\n",
    "\n",
    "**Task 4** try a few values for ```x``` in the next cell.  What do you need to do to get the ```else``` clause to run?"
   ]
  },
  {
   "cell_type": "code",
   "execution_count": null,
   "metadata": {},
   "outputs": [],
   "source": [
    "x = 0.1\n",
    "if x < x**2:\n",
    "    print(\"Sometimes the square is smaller.\")\n",
    "else:\n",
    "    print(\"Sometimes the square is larger\")"
   ]
  },
  {
   "cell_type": "markdown",
   "metadata": {},
   "source": [
    "#### Python syntax note 3"
   ]
  },
  {
   "cell_type": "markdown",
   "metadata": {},
   "source": [
    "Conditionals and loops have a similar syntax to functions and classes:  a controll word, some arguments, a colon, then an indented body.  \n",
    "#### Python Syntax Note 4\n",
    "Many python loops use a syntax like \n",
    "\n",
    "```\n",
    "for value in list_type_thing\n",
    "```\n",
    "\n",
    "where ```value``` is filled with each successive element in ```list_type_thing.```  Many things work like lists in Python.  More on this later!"
   ]
  },
  {
   "cell_type": "markdown",
   "metadata": {},
   "source": [
    "### Modules: using of the hard work of others"
   ]
  },
  {
   "cell_type": "markdown",
   "metadata": {},
   "source": [
    "One of the major reasons that Python is so useful is that many smart people have provided extremely well written tools that are free.  The ones we will use most here are ```numpy```, which deals with math and arrays, ```matplolib``` which plots, and ```scipy``` which has tools for more complex math.  \n",
    "\n",
    "Note: You can run `help` and `dir` on these packages, but they're quite large.  The docs can be found at the bottom of the assignment.  I will provide details on the usage of these packages as they become necessary.\n",
    "\n",
    "\n",
    "First, we import modules with import:\n",
    "\n",
    "```\n",
    "import numpy\n",
    "```\n",
    "\n",
    "But I'm going to have to type `numpy` a lot, and I'm lazy, so we'll import _and_ call it `np`."
   ]
  },
  {
   "cell_type": "code",
   "execution_count": null,
   "metadata": {},
   "outputs": [],
   "source": [
    "import numpy as np"
   ]
  },
  {
   "cell_type": "markdown",
   "metadata": {},
   "source": [
    "Note that you only need to import once in a notebook.  Now I can access things in `numpy` as though they were members of that object (because they are)"
   ]
  },
  {
   "cell_type": "code",
   "execution_count": null,
   "metadata": {},
   "outputs": [],
   "source": [
    "print(np.array)"
   ]
  },
  {
   "cell_type": "markdown",
   "metadata": {},
   "source": [
    "#### Numpy arrays\n",
    "One important type is a numpy array.  They're collections of data, but they have some important distinctions with `lists` in Python.  First, the data types in an array are all the same.  This makes them much faster to work with.  Second, you can add, subtract, multiply, and compare whole arrays at a time.  This makes things clean.  "
   ]
  },
  {
   "cell_type": "code",
   "execution_count": null,
   "metadata": {},
   "outputs": [],
   "source": [
    "#Here's an array that's all zeros, and has ten elements.\n",
    "my_array = np.zeros(10)\n",
    "print(my_array)"
   ]
  },
  {
   "cell_type": "code",
   "execution_count": null,
   "metadata": {},
   "outputs": [],
   "source": [
    "#I can do things to it:\n",
    "fives = my_array + 5.\n",
    "print(fives)\n",
    "tens = 2*fives\n",
    "print(tens)"
   ]
  },
  {
   "cell_type": "markdown",
   "metadata": {},
   "source": [
    "Very often, I need a range of numbers, e.g. for the x-axis of my plot.  There are many ways to do this, but `np.arange` is very useful.  "
   ]
  },
  {
   "cell_type": "code",
   "execution_count": null,
   "metadata": {},
   "outputs": [],
   "source": [
    "#Try running help on arange.  It will tell you how to use it.\n",
    "help(np.arange)"
   ]
  },
  {
   "cell_type": "code",
   "execution_count": null,
   "metadata": {},
   "outputs": [],
   "source": [
    "#This one goes between 0 and 2 pi in steps of 0.1\n",
    "#Note that numpy has a value for pi, so I don't have to type it in all the time.\n",
    "x = np.arange(0,2*np.pi,0.1)\n",
    "print(x)"
   ]
  },
  {
   "cell_type": "markdown",
   "metadata": {},
   "source": [
    "Really, the main point of all of this code stuff it to make plots.  The plotting package that's most widely used is `pyplot`, which is part of `matplotlib`."
   ]
  },
  {
   "cell_type": "code",
   "execution_count": null,
   "metadata": {},
   "outputs": [],
   "source": [
    "#The second line gets the plots to appear as you make them.\n",
    "import matplotlib.pyplot as plt\n",
    "%matplotlib inline "
   ]
  },
  {
   "cell_type": "code",
   "execution_count": null,
   "metadata": {},
   "outputs": [],
   "source": [
    "#Then, I can plot my arrays!\n",
    "x = np.arange(0,2*np.pi,0.1)\n",
    "y = np.sin(x) \n",
    "plt.plot(x,y)"
   ]
  },
  {
   "cell_type": "code",
   "execution_count": null,
   "metadata": {},
   "outputs": [],
   "source": [
    "#Always label your axes!\n",
    "plt.plot(x,y)\n",
    "plt.title('Giant Wave Behavior')\n",
    "plt.xlabel('time [hours]')\n",
    "plt.ylabel('height [km]')"
   ]
  },
  {
   "cell_type": "markdown",
   "metadata": {},
   "source": [
    "**Task 5** In the next cell, plot tan between zero and pi/2. "
   ]
  },
  {
   "cell_type": "code",
   "execution_count": null,
   "metadata": {},
   "outputs": [],
   "source": [
    "#Copy from the previous few cells.  Use tan in stead of sin.  Label your plot."
   ]
  },
  {
   "cell_type": "markdown",
   "metadata": {},
   "source": [
    "# Summarize\n",
    "\n",
    "This was a lot of material to cover!  The very most important parts are:\n",
    "1. You've now interacted with cells in a Jupyter notebook.\n",
    "1. You've seen a variety of data types that Python supports natively.\n",
    "1. You've seen a bit about objects:\n",
    "  1. Objects are packages of things and actions.\n",
    "  1. You can access those things by `object.thing` and `object.action()`.\n",
    "1. Modules are extremely useful ways to access the great things other people have done.\n",
    "1. `numpy` arrays are the best way to deal with numbers.\n",
    "1. `pyplot` is a great plotting package.\n",
    "1. `help`, `dir` and `type` are useful for finding your way around."
   ]
  },
  {
   "cell_type": "markdown",
   "metadata": {},
   "source": [
    "# More Info Please\n",
    "\n",
    "The CMSE department at Michigan State has a large suite of videos, they can be found here (scroll to the bottom)\n",
    "https://www.youtube.com/channel/UCzs8QmQJ74xHmxRrq3QtvtQ/videos\n",
    "\n",
    "Stack Overflow is your friend:\n",
    "https://stackoverflow.com\n",
    "\n",
    "(in general if you google a question, the Stack Overflow answer will often show up.)  \n",
    "\n",
    "[Numpy docs](https://docs.scipy.org/doc/numpy-1.13.0/reference/)\n",
    "\n",
    "[Matplotlib docs](https://matplotlib.org/contents.html) [Pyplot tutorial](https://matplotlib.org/tutorials/introductory/pyplot.html#sphx-glr-tutorials-introductory-pyplot-py)\n",
    "\n",
    "\n",
    "Also, I do not plan to have any aspects that deeply strain your code skills.  If you're stuck, ask, it's probable the question isn't worded clearly."
   ]
  },
  {
   "cell_type": "markdown",
   "metadata": {},
   "source": [
    "# Task 6"
   ]
  },
  {
   "cell_type": "markdown",
   "metadata": {},
   "source": [
    "How long did installing everything take you?"
   ]
  },
  {
   "cell_type": "code",
   "execution_count": null,
   "metadata": {},
   "outputs": [],
   "source": []
  },
  {
   "cell_type": "markdown",
   "metadata": {},
   "source": [
    "How long did working through this notebook take you?"
   ]
  },
  {
   "cell_type": "code",
   "execution_count": null,
   "metadata": {},
   "outputs": [],
   "source": []
  },
  {
   "cell_type": "markdown",
   "metadata": {},
   "source": [
    "# Task 7: Save your notebook, upload to canvas."
   ]
  },
  {
   "cell_type": "code",
   "execution_count": null,
   "metadata": {},
   "outputs": [],
   "source": []
  }
 ],
 "metadata": {
  "kernelspec": {
   "display_name": "Python 3 (ipykernel)",
   "language": "python",
   "name": "python3"
  },
  "language_info": {
   "codemirror_mode": {
    "name": "ipython",
    "version": 3
   },
   "file_extension": ".py",
   "mimetype": "text/x-python",
   "name": "python",
   "nbconvert_exporter": "python",
   "pygments_lexer": "ipython3",
   "version": "3.9.7"
  }
 },
 "nbformat": 4,
 "nbformat_minor": 2
}
