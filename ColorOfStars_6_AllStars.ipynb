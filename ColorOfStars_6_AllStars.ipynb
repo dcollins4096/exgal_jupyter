{
 "cells": [
  {
   "cell_type": "markdown",
   "metadata": {},
   "source": [
    "# Exgal Numerical Homework 6:  The Color of Stars\n",
    "\n",
    "Let's compute the color of all Main Sequence stars.  \n",
    "\n",
    "Go open up the Numerical 5 homework, you'll need it.  Perhaps you want the Solutions to N5, they're on canvas."
   ]
  },
  {
   "cell_type": "code",
   "execution_count": 2,
   "metadata": {},
   "outputs": [],
   "source": [
    "#\n",
    "# Setup numbers, and a black body.\n",
    "# \n",
    "# RUN THIS CELL FIRST.\n",
    "#\n",
    "import numpy as np\n",
    "import matplotlib.pyplot as plt\n",
    "%matplotlib inline \n",
    "h =  6.62607e-27        #erg s\n",
    "c =  2.998e10           #cm/s\n",
    "kb = 1.38065e-16        #erg/K\n",
    "sigma_sb = 5.670373e-05 #erg/(K**4*cm**2*s)\n",
    "Rsun_cm = 6.9550e10     #cm\n",
    "Lsun = 3.827e+33        #erg/s\n",
    "AU_in_cm = 1.4960e+13   #cm\n",
    "pc_in_cm = 3.0857e+18   #cm\n",
    "Tsun = 5770             #K\n",
    "\n",
    "#Wavelength range.  \n",
    "#Bin edges, widths, and centers\n",
    "L_edge = np.linspace(100e-7,10000e-7,1000)\n",
    "dL = L_edge[1:]-L_edge[:-1]\n",
    "L = 0.5*(L_edge[1:]+L_edge[:-1])\n",
    "\n",
    "def black_body(L,T):\n",
    "    return 2*h*c**2*(L**-5)/(np.exp(h*c/(L*kb*T) )-1)\n",
    "\n",
    "def gaussian(center,fwhm):\n",
    "    #This uses L and dL defined above.\n",
    "    width = fwhm/(2*np.sqrt(2*np.log(2)))\n",
    "    g1 = np.exp(-(L-center)**2/(2*width**2))\n",
    "    norm = (dL*g1).sum()\n",
    "    output=g1/norm\n",
    "    return output\n",
    "\n",
    "if 'star_data' not in dir():\n",
    "    import h5py\n",
    "    fptr = h5py.File('data/star_data_main_sequence.h5','r')\n",
    "    star_data={}\n",
    "    for field in fptr.keys():\n",
    "        star_data[field] = fptr[field][:]\n",
    "        \n",
    "\n",
    "CW = 0.49292929292929288 #the constant you want.\n",
    "\n",
    "Lambda_b=445e-7\n",
    "fwhm_b=94e-7\n",
    "Lambda_v=551e-7\n",
    "fwhm_v=88e-7\n"
   ]
  },
  {
   "cell_type": "markdown",
   "metadata": {},
   "source": [
    "### Problem 1\n",
    "\n",
    "_3 pts_\n",
    "\n",
    "The `star_data` object defined in the first cell is a dictionary that contains data about stars.  \n",
    "Plot \"B-V\" vs. Effective temperature, 'Teff_K'.\n"
   ]
  },
  {
   "cell_type": "code",
   "execution_count": 3,
   "metadata": {},
   "outputs": [
    {
     "data": {
      "text/plain": [
       "Text(0, 0.5, 'T')"
      ]
     },
     "execution_count": 3,
     "metadata": {},
     "output_type": "execute_result"
    },
    {
     "data": {
      "image/png": "[encoded data removed]",
      "text/plain": [
       "<Figure size 432x288 with 1 Axes>"
      ]
     },
     "metadata": {
      "needs_background": "light"
     },
     "output_type": "display_data"
    }
   ],
   "source": [
    "plt.scatter( star_data['B-V'],star_data['Teff_K'])\n",
    "plt.xlabel('B-V')\n",
    "plt.ylabel('T')"
   ]
  },
  {
   "cell_type": "code",
   "execution_count": 5,
   "metadata": {},
   "outputs": [
    {
     "data": {
      "text/plain": [
       "Text(0, 0.5, 'T')"
      ]
     },
     "execution_count": 5,
     "metadata": {},
     "output_type": "execute_result"
    },
    {
     "data": {
      "image/png": "[encoded data removed]",
      "text/plain": [
       "<Figure size 432x288 with 1 Axes>"
      ]
     },
     "metadata": {
      "needs_background": "light"
     },
     "output_type": "display_data"
    }
   ],
   "source": [
    "#You should get this:\n"
   ]
  },
  {
   "cell_type": "markdown",
   "metadata": {},
   "source": [
    "### Problem 2\n",
    "\n",
    "_pts 3_\n",
    "\n",
    "Write a function that returns the $B-V$ color from a black body with temperature $T$.\n",
    "\n",
    "1. Your function should take temperature, T, as an argument.\n",
    "1. First it should compute a black body at temperature T.\n",
    "1. Second, compute the B-Luminosity (Look at Numerical 5)\n",
    "1. Third, compute the V-Luminosity (Look at Numerical 5)\n",
    "1. Fourth, compute B-V\n",
    "1. Return the result\n",
    "1. Finally, check that your result gets approximately the right answer for the sun.\n"
   ]
  },
  {
   "cell_type": "code",
   "execution_count": 6,
   "metadata": {},
   "outputs": [],
   "source": [
    "#Write your function here\n",
    "def BmV(T):\n",
    "    S = black_body(L,T)\n",
    "\n",
    "    Lambda_b=445e-7\n",
    "    fwhm_b=94e-7\n",
    "    Lambda_v=551e-7\n",
    "    fwhm_v=88e-7\n",
    "    T_B = gaussian(Lambda_b,fwhm_b)\n",
    "    L_B = (T_B*S*dL).sum()\n",
    "    #plt.scatter(Lambda_b,L_B,c='b')\n",
    "    T_V = gaussian(Lambda_v,fwhm_v)\n",
    "    L_V = (T_V*S*dL).sum()\n",
    "    return -2.5*np.log10(L_B/L_V)+CW"
   ]
  },
  {
   "cell_type": "code",
   "execution_count": 7,
   "metadata": {},
   "outputs": [
    {
     "data": {
      "text/plain": [
       "0.526556059137899"
      ]
     },
     "execution_count": 7,
     "metadata": {},
     "output_type": "execute_result"
    }
   ],
   "source": [
    "#Get B-V for the sun here.\n",
    "BmV(Tsun)"
   ]
  },
  {
   "cell_type": "markdown",
   "metadata": {},
   "source": [
    "### Problem 3\n",
    "\n",
    "_3 pts_\n",
    "\n",
    "1. Plot $B-V$ vs. $T$ for all the stars in `star_data` (this is the same as problem 1)\n",
    "1. On the same plot, loop over `star_data['Teff_K']` and compute B-V for this temperature, using the function you wrote in the previous problem.  Plot B-V and T for the black body on the same plot.\n"
   ]
  },
  {
   "cell_type": "code",
   "execution_count": 8,
   "metadata": {},
   "outputs": [
    {
     "data": {
      "image/png": "[encoded data removed]",
      "text/plain": [
       "<Figure size 432x288 with 1 Axes>"
      ]
     },
     "metadata": {
      "needs_background": "light"
     },
     "output_type": "display_data"
    }
   ],
   "source": [
    "# work here.\n",
    "plt.scatter(star_data['Teff_K'],star_data['B-V'])\n",
    "for T in star_data['Teff_K']:\n",
    "    plt.scatter( T, BmV(T),c='r')"
   ]
  },
  {
   "cell_type": "code",
   "execution_count": 18,
   "metadata": {},
   "outputs": [
    {
     "data": {
      "text/plain": [
       "Text(0, 0.5, 'B-V')"
      ]
     },
     "execution_count": 18,
     "metadata": {},
     "output_type": "execute_result"
    },
    {
     "data": {
      "image/png": "[encoded data removed]",
      "text/plain": [
       "<Figure size 432x288 with 1 Axes>"
      ]
     },
     "metadata": {
      "needs_background": "light"
     },
     "output_type": "display_data"
    }
   ],
   "source": [
    "#You should get this"
   ]
  },
  {
   "cell_type": "markdown",
   "metadata": {},
   "source": [
    "### Problem 5\n",
    "\n",
    "_2 pts_\n",
    "\n",
    "How long did this take you?"
   ]
  },
  {
   "cell_type": "code",
   "execution_count": null,
   "metadata": {},
   "outputs": [],
   "source": []
  },
  {
   "cell_type": "markdown",
   "metadata": {},
   "source": [
    "### Problem 7\n",
    "\n",
    "_0 pts_\n",
    "\n",
    "Students in the future will be subjected to these numerical exercises.  Is there anything you would change about this process?  Anything you found particularly irritating?"
   ]
  },
  {
   "cell_type": "code",
   "execution_count": null,
   "metadata": {},
   "outputs": [],
   "source": []
  }
 ],
 "metadata": {
  "kernelspec": {
   "display_name": "Python 3 (ipykernel)",
   "language": "python",
   "name": "python3"
  },
  "language_info": {
   "codemirror_mode": {
    "name": "ipython",
    "version": 3
   },
   "file_extension": ".py",
   "mimetype": "text/x-python",
   "name": "python",
   "nbconvert_exporter": "python",
   "pygments_lexer": "ipython3",
   "version": "3.9.7"
  }
 },
 "nbformat": 4,
 "nbformat_minor": 2
}
