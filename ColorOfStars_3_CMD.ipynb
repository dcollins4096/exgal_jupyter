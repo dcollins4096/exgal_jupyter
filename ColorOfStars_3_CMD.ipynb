{
 "cells": [
  {
   "cell_type": "markdown",
   "metadata": {},
   "source": [
    "# Exgal Numerical Homework 3\n",
    "\n",
    "\n",
    "This is intended to be short.  If this takes you more than about an hour and/or you're stuck on code, stop and ask for help.  The due date can have large error bars for this assignment.\n",
    "\n",
    "Hints at the bottom."
   ]
  },
  {
   "cell_type": "markdown",
   "metadata": {},
   "source": [
    "# Problem 1\n",
    "\n",
    "_10 pts_\n",
    "\n",
    "1. Get the file `star_data_main_sequence.h5` from canvas.  It contains information about stars. \n",
    "    1. If it doesn't open, make sure that the notebook and `star_data_main_sequence.h5` are in the same directory.\n",
    "    1. This fills a dictionary called `star_data`.  Elements of `star_data` are arrays that contain properties for a typical main sequence of stars.  \n",
    "1. Use `star_data.keys()` to see the contents of the dictionary."
   ]
  },
  {
   "cell_type": "code",
   "execution_count": 5,
   "metadata": {},
   "outputs": [],
   "source": [
    "#this is stuff from before.\n",
    "import numpy as np\n",
    "import matplotlib.pyplot as plt\n",
    "%matplotlib inline \n",
    "\n",
    "#This is new. Read this code, then run it.\n",
    "import h5py #h5py (=hdf5) is a good way to package data\n",
    "fptr = h5py.File('data/star_data_main_sequence.h5','r')\n",
    "star_data={}\n",
    "for field in fptr.keys():\n",
    "    star_data[field] = fptr[field][:] #the [:] at the end makes it copy the data to memory."
   ]
  },
  {
   "cell_type": "code",
   "execution_count": 6,
   "metadata": {},
   "outputs": [
    {
     "data": {
      "text/plain": [
       "dict_keys(['AbsoluteBolometricMag', 'AbsoluteVisualMag', 'B-V', 'BolometricCorrection', 'Teff_K', 'log_Luminosity_Lsun', 'mass_msun', 'radius_rsun', 'spectral_class', 'star_name'])"
      ]
     },
     "execution_count": 6,
     "metadata": {},
     "output_type": "execute_result"
    }
   ],
   "source": [
    "# What is in the dictionary star_data?\n",
    "star_data.keys()"
   ]
  },
  {
   "cell_type": "markdown",
   "metadata": {},
   "source": [
    "# Problem 2\n",
    "5 pts"
   ]
  },
  {
   "cell_type": "markdown",
   "metadata": {},
   "source": [
    "1. Make a variable called `BminusV` and set it equal to `star_data['B-V']`\n",
    "1. `BminusV` is an array.  Print the fourth element of `BminusV` \n",
    "    1. Print out the size of the array with `BminusV.size`\n",
    "    1. Use square brakcets to print some other values of `BminusV`\n",
    "1. Make another variable called `SpectralClass` and set it equal to the spectral class array in `star_data`.  What is the class of the 20th element?\n",
    "1. Finally you'll need `Mbol = star_data['AbsoluteBolometricMag'].`"
   ]
  },
  {
   "cell_type": "code",
   "execution_count": 7,
   "metadata": {},
   "outputs": [
    {
     "name": "stdout",
     "output_type": "stream",
     "text": [
      "b'A0V'\n",
      "<class 'numpy.bytes_'>\n"
     ]
    },
    {
     "data": {
      "text/plain": [
       "['T',\n",
       " '__abs__',\n",
       " '__add__',\n",
       " '__and__',\n",
       " '__array__',\n",
       " '__array_interface__',\n",
       " '__array_priority__',\n",
       " '__array_struct__',\n",
       " '__array_wrap__',\n",
       " '__bool__',\n",
       " '__class__',\n",
       " '__contains__',\n",
       " '__copy__',\n",
       " '__deepcopy__',\n",
       " '__delattr__',\n",
       " '__dir__',\n",
       " '__divmod__',\n",
       " '__doc__',\n",
       " '__eq__',\n",
       " '__float__',\n",
       " '__floordiv__',\n",
       " '__format__',\n",
       " '__ge__',\n",
       " '__getattribute__',\n",
       " '__getitem__',\n",
       " '__getnewargs__',\n",
       " '__gt__',\n",
       " '__hash__',\n",
       " '__init__',\n",
       " '__init_subclass__',\n",
       " '__int__',\n",
       " '__invert__',\n",
       " '__iter__',\n",
       " '__le__',\n",
       " '__len__',\n",
       " '__lshift__',\n",
       " '__lt__',\n",
       " '__mod__',\n",
       " '__mul__',\n",
       " '__ne__',\n",
       " '__neg__',\n",
       " '__new__',\n",
       " '__or__',\n",
       " '__pos__',\n",
       " '__pow__',\n",
       " '__radd__',\n",
       " '__rand__',\n",
       " '__rdivmod__',\n",
       " '__reduce__',\n",
       " '__reduce_ex__',\n",
       " '__repr__',\n",
       " '__rfloordiv__',\n",
       " '__rlshift__',\n",
       " '__rmod__',\n",
       " '__rmul__',\n",
       " '__ror__',\n",
       " '__rpow__',\n",
       " '__rrshift__',\n",
       " '__rshift__',\n",
       " '__rsub__',\n",
       " '__rtruediv__',\n",
       " '__rxor__',\n",
       " '__setattr__',\n",
       " '__setstate__',\n",
       " '__sizeof__',\n",
       " '__str__',\n",
       " '__sub__',\n",
       " '__subclasshook__',\n",
       " '__truediv__',\n",
       " '__xor__',\n",
       " 'all',\n",
       " 'any',\n",
       " 'argmax',\n",
       " 'argmin',\n",
       " 'argsort',\n",
       " 'astype',\n",
       " 'base',\n",
       " 'byteswap',\n",
       " 'capitalize',\n",
       " 'center',\n",
       " 'choose',\n",
       " 'clip',\n",
       " 'compress',\n",
       " 'conj',\n",
       " 'conjugate',\n",
       " 'copy',\n",
       " 'count',\n",
       " 'cumprod',\n",
       " 'cumsum',\n",
       " 'data',\n",
       " 'decode',\n",
       " 'diagonal',\n",
       " 'dtype',\n",
       " 'dump',\n",
       " 'dumps',\n",
       " 'endswith',\n",
       " 'expandtabs',\n",
       " 'fill',\n",
       " 'find',\n",
       " 'flags',\n",
       " 'flat',\n",
       " 'flatten',\n",
       " 'fromhex',\n",
       " 'getfield',\n",
       " 'hex',\n",
       " 'imag',\n",
       " 'index',\n",
       " 'isalnum',\n",
       " 'isalpha',\n",
       " 'isascii',\n",
       " 'isdigit',\n",
       " 'islower',\n",
       " 'isspace',\n",
       " 'istitle',\n",
       " 'isupper',\n",
       " 'item',\n",
       " 'itemset',\n",
       " 'itemsize',\n",
       " 'join',\n",
       " 'ljust',\n",
       " 'lower',\n",
       " 'lstrip',\n",
       " 'maketrans',\n",
       " 'max',\n",
       " 'mean',\n",
       " 'min',\n",
       " 'nbytes',\n",
       " 'ndim',\n",
       " 'newbyteorder',\n",
       " 'nonzero',\n",
       " 'partition',\n",
       " 'prod',\n",
       " 'ptp',\n",
       " 'put',\n",
       " 'ravel',\n",
       " 'real',\n",
       " 'removeprefix',\n",
       " 'removesuffix',\n",
       " 'repeat',\n",
       " 'replace',\n",
       " 'reshape',\n",
       " 'resize',\n",
       " 'rfind',\n",
       " 'rindex',\n",
       " 'rjust',\n",
       " 'round',\n",
       " 'rpartition',\n",
       " 'rsplit',\n",
       " 'rstrip',\n",
       " 'searchsorted',\n",
       " 'setfield',\n",
       " 'setflags',\n",
       " 'shape',\n",
       " 'size',\n",
       " 'sort',\n",
       " 'split',\n",
       " 'splitlines',\n",
       " 'squeeze',\n",
       " 'startswith',\n",
       " 'std',\n",
       " 'strides',\n",
       " 'strip',\n",
       " 'sum',\n",
       " 'swapaxes',\n",
       " 'swapcase',\n",
       " 'take',\n",
       " 'title',\n",
       " 'tobytes',\n",
       " 'tofile',\n",
       " 'tolist',\n",
       " 'tostring',\n",
       " 'trace',\n",
       " 'translate',\n",
       " 'transpose',\n",
       " 'upper',\n",
       " 'var',\n",
       " 'view',\n",
       " 'zfill']"
      ]
     },
     "execution_count": 7,
     "metadata": {},
     "output_type": "execute_result"
    }
   ],
   "source": [
    "#work here\n",
    "BmV=star_data['B-V']\n",
    "Mbol = star_data['AbsoluteBolometricMag']\n",
    "C = star_data['spectral_class']\n",
    "print(C[20])\n",
    "print(C[20].__class__)\n",
    "dir(C[20])"
   ]
  },
  {
   "cell_type": "markdown",
   "metadata": {},
   "source": [
    "# Problem 3\n",
    "\n",
    "_10 pts_\n",
    "\n",
    "1. Plot a color-magnitude diagram using B-V and the Absolute Bolometric Magnitude from the data.  \n",
    "    1. Use `plt.scatter`.\n",
    "    1. Use `plt.xlim` and `plt.ylim` to make it so that up is brighter, left is bluer.  \n",
    "    1. Label your axes.\n",
    "1. On the same plot, also plot a color-magnitude for this data if it were at 2kpc."
   ]
  },
  {
   "cell_type": "code",
   "execution_count": 8,
   "metadata": {},
   "outputs": [],
   "source": [
    "#work here"
   ]
  },
  {
   "cell_type": "code",
   "execution_count": 10,
   "metadata": {},
   "outputs": [
    {
     "data": {
      "text/plain": [
       "Text(0.5, 1.0, 'Color Magnitude')"
      ]
     },
     "execution_count": 10,
     "metadata": {},
     "output_type": "execute_result"
    },
    {
     "data": {
      "image/png": "[encoded data removed]",
      "text/plain": [
       "<Figure size 432x288 with 1 Axes>"
      ]
     },
     "metadata": {
      "needs_background": "light"
     },
     "output_type": "display_data"
    }
   ],
   "source": [
    "#Your output should look like this:\n",
    "plt.scatter( star_data['B-V'], star_data['AbsoluteBolometricMag'], label='10 pc')\n",
    "plt.ylim(45,-15)\n",
    "m = Mbol + 5*np.log10(2000/10)\n",
    "plt.scatter( star_data['B-V'], star_data['AbsoluteBolometricMag']+5*np.log10(200), label='2000 pc')\n",
    "plt.xlabel('B-V')\n",
    "plt.ylabel('M')\n",
    "plt.legend(loc=0)\n",
    "plt.title('Color Magnitude')"
   ]
  },
  {
   "cell_type": "markdown",
   "metadata": {},
   "source": [
    "# Problem 4\n",
    "\n",
    "2 pts\n",
    "\n",
    "How long did this take you?"
   ]
  },
  {
   "cell_type": "code",
   "execution_count": null,
   "metadata": {},
   "outputs": [],
   "source": [
    "# work here"
   ]
  },
  {
   "cell_type": "markdown",
   "metadata": {},
   "source": [
    "## Hints 1:\n",
    "\n",
    "\n",
    "Here's a function in case you forgot.\n",
    "\n",
    "`\n",
    "def a(b,c):\n",
    "  \"\"\"This works if `b` and `c` are arrays or scalars.\"\"\"\n",
    "  stuff = np.exp(b)+c\n",
    "  return stuff\n",
    " `\n",
    "\n",
    "\n",
    "1. `help(thing)` and `dir(thing)` will tell you the contents of `thing` and the usage of `thing`.\n",
    "1. For `numpy` arrays, `array.size` and `array.shape`, as well as `array.min()` and `array.max()` are your friends\n",
    "1. Read the error messages when they show up.\n",
    "1. `np.log` vs `np.log10`.\n",
    "1. `plt.plot`, `plt.scatter` are two functions that do useful stuff.  You should take a look at the help for each.\n",
    "1. `plt.xlim`, `plt.ylim` sets x- and y-limits.  \n",
    "1. `plt.title` is a function that does what you think it should.\n",
    "1. `plt.xlabel`, `plt.ylabel` are similarly functions that behave as one expects.\n",
    "1. The thing you're looking for is the 20th element in the array. "
   ]
  },
  {
   "cell_type": "markdown",
   "metadata": {},
   "source": [
    "### Hints 2:\n",
    "\n",
    "Once you're stuck.\n",
    "\n",
    "\n",
    "#### Problem 1\n",
    "\n",
    "Making variables in python is easy, `BminusV = star_data['B-V']` is all that you need to do.\n",
    "\n",
    "#### Problem 2\n",
    "\n",
    "Don't forget the distance modulous, $m-M = 5 \\log_{10}\\left(\\frac{D}{10\\rm{pc}}\\right)$"
   ]
  },
  {
   "cell_type": "code",
   "execution_count": null,
   "metadata": {},
   "outputs": [],
   "source": []
  }
 ],
 "metadata": {
  "kernelspec": {
   "display_name": "Python 3 (ipykernel)",
   "language": "python",
   "name": "python3"
  },
  "language_info": {
   "codemirror_mode": {
    "name": "ipython",
    "version": 3
   },
   "file_extension": ".py",
   "mimetype": "text/x-python",
   "name": "python",
   "nbconvert_exporter": "python",
   "pygments_lexer": "ipython3",
   "version": "3.9.7"
  }
 },
 "nbformat": 4,
 "nbformat_minor": 2
}
